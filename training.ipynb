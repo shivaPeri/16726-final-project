{
  "cells": [
    {
      "cell_type": "markdown",
      "metadata": {
        "id": "4wT2Bo-lT-UM"
      },
      "source": [
        "# 3D Mesh Interpolation\n",
        "\n",
        "Authors: Shiva Peri, Hima Gururaj, Nikolas Diamant\n",
        "\n",
        "Paper References: \n",
        "[Lipschitz Regularization](https://arxiv.org/pdf/2202.08345v1.pdf),\n",
        "[DeepSDF](https://arxiv.org/pdf/1901.05103.pdf)\n",
        "\n",
        "Code References:\n",
        "[Mesh to SDF](https://github.com/marian42/mesh_to_sdf),\n",
        "[DeepSDF](https://github.com/facebookresearch/DeepSDF),"
      ]
    },
    {
      "cell_type": "markdown",
      "metadata": {
        "id": "_rMXSrgKT-UP"
      },
      "source": [
        "#### Importing Libraries"
      ]
    },
    {
      "cell_type": "code",
      "source": [
        "# use these specific versions so pytorch3d doesnt break\n",
        "\n",
        "!pip install 'torch==1.6.0+cu101' -f https://download.pytorch.org/whl/torch_stable.html\n",
        "!pip install 'torchvision==0.7.0+cu101' -f https://download.pytorch.org/whl/torch_stable.html\n",
        "!pip install 'pytorch3d==0.2.5'"
      ],
      "metadata": {
        "colab": {
          "base_uri": "https://localhost:8080/"
        },
        "id": "a2tU2nkcUPxU",
        "outputId": "57096f21-7228-421f-871b-0c7c7b54a8b6"
      },
      "execution_count": null,
      "outputs": [
        {
          "output_type": "stream",
          "name": "stdout",
          "text": [
            "Looking in links: https://download.pytorch.org/whl/torch_stable.html\n",
            "Requirement already satisfied: torch==1.6.0+cu101 in /usr/local/lib/python3.7/dist-packages (1.6.0+cu101)\n",
            "Requirement already satisfied: numpy in /usr/local/lib/python3.7/dist-packages (from torch==1.6.0+cu101) (1.21.6)\n",
            "Requirement already satisfied: future in /usr/local/lib/python3.7/dist-packages (from torch==1.6.0+cu101) (0.16.0)\n",
            "Looking in links: https://download.pytorch.org/whl/torch_stable.html\n",
            "Requirement already satisfied: torchvision==0.7.0+cu101 in /usr/local/lib/python3.7/dist-packages (0.7.0+cu101)\n",
            "Requirement already satisfied: numpy in /usr/local/lib/python3.7/dist-packages (from torchvision==0.7.0+cu101) (1.21.6)\n",
            "Requirement already satisfied: torch==1.6.0 in /usr/local/lib/python3.7/dist-packages (from torchvision==0.7.0+cu101) (1.6.0+cu101)\n",
            "Requirement already satisfied: pillow>=4.1.1 in /usr/local/lib/python3.7/dist-packages (from torchvision==0.7.0+cu101) (7.1.2)\n",
            "Requirement already satisfied: future in /usr/local/lib/python3.7/dist-packages (from torch==1.6.0->torchvision==0.7.0+cu101) (0.16.0)\n",
            "Requirement already satisfied: pytorch3d==0.2.5 in /usr/local/lib/python3.7/dist-packages (0.2.5)\n",
            "Requirement already satisfied: torchvision>=0.4 in /usr/local/lib/python3.7/dist-packages (from pytorch3d==0.2.5) (0.7.0+cu101)\n",
            "Requirement already satisfied: fvcore in /usr/local/lib/python3.7/dist-packages (from pytorch3d==0.2.5) (0.1.5.post20220506)\n",
            "Requirement already satisfied: numpy in /usr/local/lib/python3.7/dist-packages (from torchvision>=0.4->pytorch3d==0.2.5) (1.21.6)\n",
            "Requirement already satisfied: torch==1.6.0 in /usr/local/lib/python3.7/dist-packages (from torchvision>=0.4->pytorch3d==0.2.5) (1.6.0+cu101)\n",
            "Requirement already satisfied: pillow>=4.1.1 in /usr/local/lib/python3.7/dist-packages (from torchvision>=0.4->pytorch3d==0.2.5) (7.1.2)\n",
            "Requirement already satisfied: future in /usr/local/lib/python3.7/dist-packages (from torch==1.6.0->torchvision>=0.4->pytorch3d==0.2.5) (0.16.0)\n",
            "Requirement already satisfied: tqdm in /usr/local/lib/python3.7/dist-packages (from fvcore->pytorch3d==0.2.5) (4.64.0)\n",
            "Requirement already satisfied: tabulate in /usr/local/lib/python3.7/dist-packages (from fvcore->pytorch3d==0.2.5) (0.8.9)\n",
            "Requirement already satisfied: pyyaml>=5.1 in /usr/local/lib/python3.7/dist-packages (from fvcore->pytorch3d==0.2.5) (6.0)\n",
            "Requirement already satisfied: yacs>=0.1.6 in /usr/local/lib/python3.7/dist-packages (from fvcore->pytorch3d==0.2.5) (0.1.8)\n",
            "Requirement already satisfied: iopath>=0.1.7 in /usr/local/lib/python3.7/dist-packages (from fvcore->pytorch3d==0.2.5) (0.1.9)\n",
            "Requirement already satisfied: termcolor>=1.1 in /usr/local/lib/python3.7/dist-packages (from fvcore->pytorch3d==0.2.5) (1.1.0)\n",
            "Requirement already satisfied: portalocker in /usr/local/lib/python3.7/dist-packages (from iopath>=0.1.7->fvcore->pytorch3d==0.2.5) (2.4.0)\n"
          ]
        }
      ]
    },
    {
      "cell_type": "code",
      "execution_count": null,
      "metadata": {
        "id": "oxiZ42B4SwQ-"
      },
      "outputs": [],
      "source": [
        "%matplotlib inline\n",
        "\n",
        "import os\n",
        "import sys\n",
        "import time\n",
        "import numpy as np\n",
        "from matplotlib import pyplot as plt\n",
        "\n",
        "import torch\n",
        "import torch.nn as nn\n",
        "import torch.nn.functional as F\n",
        "from torch.autograd import Variable\n",
        "from torch.utils.data import Dataset, DataLoader\n",
        "from torch.distributions.bernoulli import Bernoulli\n",
        "\n",
        "from tqdm.notebook import tqdm\n",
        "from mpl_toolkits.mplot3d import Axes3D\n",
        "import matplotlib as mpl\n",
        "mpl.rcParams['savefig.dpi'] = 80\n",
        "mpl.rcParams['figure.dpi'] = 80"
      ]
    },
    {
      "cell_type": "code",
      "execution_count": null,
      "metadata": {
        "id": "Qcdd4ZuDT-UQ"
      },
      "outputs": [],
      "source": [
        "import pytorch3d\n",
        "\n",
        "from pytorch3d.renderer import (\n",
        "    OpenGLPerspectiveCameras,\n",
        "    PointLights,\n",
        "    RasterizationSettings,\n",
        "    TexturesVertex,\n",
        "    look_at_view_transform,\n",
        ")\n",
        "\n",
        "from pytorch3d.structures import Meshes"
      ]
    },
    {
      "cell_type": "code",
      "execution_count": null,
      "metadata": {
        "colab": {
          "base_uri": "https://localhost:8080/"
        },
        "id": "3SFULdhbT-UR",
        "outputId": "c1e3636a-9fd1-492a-8098-8341f7198880"
      },
      "outputs": [
        {
          "output_type": "stream",
          "name": "stdout",
          "text": [
            "--2022-05-07 02:50:55--  https://raw.githubusercontent.com/facebookresearch/pytorch3d/main/docs/tutorials/utils/plot_image_grid.py\n",
            "Resolving raw.githubusercontent.com (raw.githubusercontent.com)... 185.199.108.133, 185.199.109.133, 185.199.110.133, ...\n",
            "Connecting to raw.githubusercontent.com (raw.githubusercontent.com)|185.199.108.133|:443... connected.\n",
            "HTTP request sent, awaiting response... 200 OK\n",
            "Length: 1608 (1.6K) [text/plain]\n",
            "Saving to: ‘plot_image_grid.py’\n",
            "\n",
            "\rplot_image_grid.py    0%[                    ]       0  --.-KB/s               \rplot_image_grid.py  100%[===================>]   1.57K  --.-KB/s    in 0s      \n",
            "\n",
            "2022-05-07 02:50:55 (26.9 MB/s) - ‘plot_image_grid.py’ saved [1608/1608]\n",
            "\n"
          ]
        }
      ],
      "source": [
        "!wget https://raw.githubusercontent.com/facebookresearch/pytorch3d/main/docs/tutorials/utils/plot_image_grid.py\n",
        "from plot_image_grid import image_grid"
      ]
    },
    {
      "cell_type": "code",
      "execution_count": null,
      "metadata": {
        "colab": {
          "base_uri": "https://localhost:8080/"
        },
        "id": "Qwpa4Q7BT-UR",
        "outputId": "f18544bd-a51b-4f22-c844-8fbf191e42ee"
      },
      "outputs": [
        {
          "output_type": "stream",
          "name": "stdout",
          "text": [
            "Collecting mesh-to-sdf\n",
            "  Downloading mesh_to_sdf-0.0.14-py3-none-any.whl (14 kB)\n",
            "Requirement already satisfied: sklearn in /usr/local/lib/python3.7/dist-packages (from mesh-to-sdf) (0.0)\n",
            "Collecting pyrender\n",
            "  Downloading pyrender-0.1.45-py3-none-any.whl (1.2 MB)\n",
            "\u001b[K     |████████████████████████████████| 1.2 MB 8.8 MB/s \n",
            "\u001b[?25hRequirement already satisfied: pyopengl in /usr/local/lib/python3.7/dist-packages (from mesh-to-sdf) (3.1.6)\n",
            "Requirement already satisfied: scikit-image in /usr/local/lib/python3.7/dist-packages (from mesh-to-sdf) (0.18.3)\n",
            "Requirement already satisfied: numpy in /usr/local/lib/python3.7/dist-packages (from pyrender->mesh-to-sdf) (1.21.6)\n",
            "Collecting freetype-py\n",
            "  Downloading freetype_py-2.3.0-py3-none-manylinux_2_5_x86_64.manylinux1_x86_64.manylinux_2_12_x86_64.manylinux2010_x86_64.whl (978 kB)\n",
            "\u001b[K     |████████████████████████████████| 978 kB 48.4 MB/s \n",
            "\u001b[?25hRequirement already satisfied: imageio in /usr/local/lib/python3.7/dist-packages (from pyrender->mesh-to-sdf) (2.4.1)\n",
            "Requirement already satisfied: networkx in /usr/local/lib/python3.7/dist-packages (from pyrender->mesh-to-sdf) (2.6.3)\n",
            "Collecting pyopengl\n",
            "  Downloading PyOpenGL-3.1.0.zip (2.2 MB)\n",
            "\u001b[K     |████████████████████████████████| 2.2 MB 52.6 MB/s \n",
            "\u001b[?25hRequirement already satisfied: six in /usr/local/lib/python3.7/dist-packages (from pyrender->mesh-to-sdf) (1.15.0)\n",
            "Collecting trimesh\n",
            "  Downloading trimesh-3.12.0-py3-none-any.whl (646 kB)\n",
            "\u001b[K     |████████████████████████████████| 646 kB 40.2 MB/s \n",
            "\u001b[?25hRequirement already satisfied: scipy in /usr/local/lib/python3.7/dist-packages (from pyrender->mesh-to-sdf) (1.4.1)\n",
            "Requirement already satisfied: pyglet>=1.4.10 in /usr/local/lib/python3.7/dist-packages (from pyrender->mesh-to-sdf) (1.5.0)\n",
            "Requirement already satisfied: Pillow in /usr/local/lib/python3.7/dist-packages (from pyrender->mesh-to-sdf) (7.1.2)\n",
            "Requirement already satisfied: future in /usr/local/lib/python3.7/dist-packages (from pyglet>=1.4.10->pyrender->mesh-to-sdf) (0.16.0)\n",
            "Requirement already satisfied: tifffile>=2019.7.26 in /usr/local/lib/python3.7/dist-packages (from scikit-image->mesh-to-sdf) (2021.11.2)\n",
            "Requirement already satisfied: matplotlib!=3.0.0,>=2.0.0 in /usr/local/lib/python3.7/dist-packages (from scikit-image->mesh-to-sdf) (3.2.2)\n",
            "Requirement already satisfied: PyWavelets>=1.1.1 in /usr/local/lib/python3.7/dist-packages (from scikit-image->mesh-to-sdf) (1.3.0)\n",
            "Requirement already satisfied: cycler>=0.10 in /usr/local/lib/python3.7/dist-packages (from matplotlib!=3.0.0,>=2.0.0->scikit-image->mesh-to-sdf) (0.11.0)\n",
            "Requirement already satisfied: python-dateutil>=2.1 in /usr/local/lib/python3.7/dist-packages (from matplotlib!=3.0.0,>=2.0.0->scikit-image->mesh-to-sdf) (2.8.2)\n",
            "Requirement already satisfied: pyparsing!=2.0.4,!=2.1.2,!=2.1.6,>=2.0.1 in /usr/local/lib/python3.7/dist-packages (from matplotlib!=3.0.0,>=2.0.0->scikit-image->mesh-to-sdf) (3.0.8)\n",
            "Requirement already satisfied: kiwisolver>=1.0.1 in /usr/local/lib/python3.7/dist-packages (from matplotlib!=3.0.0,>=2.0.0->scikit-image->mesh-to-sdf) (1.4.2)\n",
            "Requirement already satisfied: typing-extensions in /usr/local/lib/python3.7/dist-packages (from kiwisolver>=1.0.1->matplotlib!=3.0.0,>=2.0.0->scikit-image->mesh-to-sdf) (4.2.0)\n",
            "Requirement already satisfied: scikit-learn in /usr/local/lib/python3.7/dist-packages (from sklearn->mesh-to-sdf) (1.0.2)\n",
            "Requirement already satisfied: joblib>=0.11 in /usr/local/lib/python3.7/dist-packages (from scikit-learn->sklearn->mesh-to-sdf) (1.1.0)\n",
            "Requirement already satisfied: threadpoolctl>=2.0.0 in /usr/local/lib/python3.7/dist-packages (from scikit-learn->sklearn->mesh-to-sdf) (3.1.0)\n",
            "Building wheels for collected packages: pyopengl\n",
            "  Building wheel for pyopengl (setup.py) ... \u001b[?25l\u001b[?25hdone\n",
            "  Created wheel for pyopengl: filename=PyOpenGL-3.1.0-py3-none-any.whl size=1745210 sha256=554b37e00b7940a502ca4b48d9a87a3312164069e2f175158106608ec3af7e48\n",
            "  Stored in directory: /root/.cache/pip/wheels/c6/83/cb/af51a0c06c33d08537b941bbfc87469e8a3c68d05f77a6a212\n",
            "Successfully built pyopengl\n",
            "Installing collected packages: trimesh, pyopengl, freetype-py, pyrender, mesh-to-sdf\n",
            "  Attempting uninstall: pyopengl\n",
            "    Found existing installation: PyOpenGL 3.1.6\n",
            "    Uninstalling PyOpenGL-3.1.6:\n",
            "      Successfully uninstalled PyOpenGL-3.1.6\n",
            "Successfully installed freetype-py-2.3.0 mesh-to-sdf-0.0.14 pyopengl-3.1.0 pyrender-0.1.45 trimesh-3.12.0\n"
          ]
        }
      ],
      "source": [
        "!pip install mesh-to-sdf\n",
        "\n",
        "from mesh_to_sdf import mesh_to_voxels\n",
        "\n",
        "import trimesh\n",
        "import skimage"
      ]
    },
    {
      "cell_type": "markdown",
      "metadata": {
        "id": "MbOT0lRWT-US"
      },
      "source": [
        "#### Data Loader"
      ]
    },
    {
      "cell_type": "code",
      "execution_count": null,
      "metadata": {
        "id": "x5znxQhLSwRC",
        "colab": {
          "base_uri": "https://localhost:8080/"
        },
        "outputId": "7034316b-d242-4209-e7e2-43923c04558e"
      },
      "outputs": [
        {
          "output_type": "stream",
          "name": "stdout",
          "text": [
            "cuda:0\n"
          ]
        }
      ],
      "source": [
        "# Setup\n",
        "if torch.cuda.is_available():\n",
        "    device = torch.device(\"cuda:0\")\n",
        "    torch.cuda.set_device(device)\n",
        "else:\n",
        "    device = torch.device(\"cpu\")\n",
        "\n",
        "print(device)"
      ]
    },
    {
      "cell_type": "code",
      "source": [
        "!wget https://github.com/shivaPeri/16726-final-project/blob/main/data.zip\n",
        "!unzip data.zip"
      ],
      "metadata": {
        "colab": {
          "base_uri": "https://localhost:8080/"
        },
        "id": "3_A-QEZLiXp6",
        "outputId": "c6f6b805-dc47-4450-a88a-8bbf553e0515"
      },
      "execution_count": null,
      "outputs": [
        {
          "output_type": "stream",
          "name": "stdout",
          "text": [
            "Archive:  ./data.zip\n",
            "  End-of-central-directory signature not found.  Either this file is not\n",
            "  a zipfile, or it constitutes one disk of a multi-part archive.  In the\n",
            "  latter case the central directory and zipfile comment will be found on\n",
            "  the last disk(s) of this archive.\n",
            "unzip:  cannot find zipfile directory in one of ./data.zip or\n",
            "        ./data.zip.zip, and cannot find ./data.zip.ZIP, period.\n"
          ]
        }
      ]
    },
    {
      "cell_type": "code",
      "execution_count": null,
      "metadata": {
        "id": "OZNrJ8XvSwRF"
      },
      "outputs": [],
      "source": [
        "# data loader\n",
        "\n",
        "# TODO\n",
        "class SDFDataLoader(DataLoader):\n",
        "    \n",
        "    def __init__(self, dataset, batch_size):\n",
        "        pass\n",
        "\n",
        "    def __len__(self):\n",
        "        pass\n",
        "\n",
        "    def __getitem__(self, index):\n",
        "        pass\n"
      ]
    },
    {
      "cell_type": "markdown",
      "metadata": {
        "id": "EWcMZbFJT-UT"
      },
      "source": [
        "#### Model Architecture"
      ]
    },
    {
      "cell_type": "code",
      "execution_count": null,
      "metadata": {
        "id": "lgTBG5tgT-UU"
      },
      "outputs": [],
      "source": [
        "# Modified DeepSDF decoder from https://github.com/facebookresearch/DeepSDF/blob/main/networks/deep_sdf_decoder.py\n",
        "\n",
        "#https://arxiv.org/pdf/2202.08345v1.pdf page 4\n",
        "class Lipschitz(nn.Module):\n",
        "    def __init__(self, in_dim, out_dim):\n",
        "        super(Lipschitz, self).__init__()\n",
        "\n",
        "        self.lin = nn.Linear(in_dim, out_dim)\n",
        "        self.ci = torch.nn.Parameter(1)\n",
        "        self.ci.requires_grad = True\n",
        "        \n",
        "    def forward(self):\n",
        "        Wi = self.lin.weight\n",
        "        absrowsum = torch.sum(torch.abs(Wi), axis=1)\n",
        "        scale = torch.minimum(1.0, self.ci/absrowsum)\n",
        "        return Wi * scale[:,None]\n",
        "\n",
        "class DeepSDFDecoder(nn.Module):\n",
        "    def __init__(\n",
        "        self,\n",
        "        latent_size,\n",
        "        dims,\n",
        "        dropout=None,\n",
        "        dropout_prob=0.0,\n",
        "        norm_layers=(),\n",
        "        latent_in=(),\n",
        "        weight_norm=False,\n",
        "        xyz_in_all=None,\n",
        "        use_tanh=False,\n",
        "        use_lip=True,             # this parameter applies Lipschitz\n",
        "        latent_dropout=False,\n",
        "    ):\n",
        "        super(DeepSDFDecoder, self).__init__()\n",
        "\n",
        "        dims = [latent_size + 3] + dims + [1]\n",
        "\n",
        "        self.num_layers = len(dims)\n",
        "        self.norm_layers = norm_layers\n",
        "        self.latent_in = latent_in\n",
        "        self.latent_dropout = latent_dropout\n",
        "        if self.latent_dropout:\n",
        "            self.lat_dp = nn.Dropout(0.2)\n",
        "\n",
        "        self.xyz_in_all = xyz_in_all\n",
        "        self.weight_norm = weight_norm\n",
        "\n",
        "        for layer in range(0, self.num_layers - 1):\n",
        "            if layer + 1 in latent_in:\n",
        "                out_dim = dims[layer + 1] - dims[0]\n",
        "            else:\n",
        "                out_dim = dims[layer + 1]\n",
        "                if self.xyz_in_all and layer != self.num_layers - 2:\n",
        "                    out_dim -= 3\n",
        "\n",
        "            if weight_norm and layer in self.norm_layers:\n",
        "                setattr(\n",
        "                    self,\n",
        "                    \"lin\" + str(layer),\n",
        "                    nn.utils.weight_norm(nn.Linear(dims[layer], out_dim)),\n",
        "                )\n",
        "            else:\n",
        "                # Lipschitz layer performes normalized linear layer + tracks losses\n",
        "                if use_lip:\n",
        "                    setattr(self, \"lin\" + str(layer), Lipschitz(dims[layer], out_dim))\n",
        "                else:\n",
        "                    setattr(self, \"lin\" + str(layer), nn.Linear(dims[layer], out_dim))\n",
        "\n",
        "            if (\n",
        "                (not weight_norm)\n",
        "                and self.norm_layers is not None\n",
        "                and layer in self.norm_layers\n",
        "            ):\n",
        "                setattr(self, \"bn\" + str(layer), nn.LayerNorm(out_dim))\n",
        "\n",
        "        self.use_tanh = use_tanh\n",
        "        if use_tanh:\n",
        "            self.tanh = nn.Tanh()\n",
        "        self.relu = nn.ReLU()\n",
        "\n",
        "        self.dropout_prob = dropout_prob\n",
        "        self.dropout = dropout\n",
        "        self.th = nn.Tanh()\n",
        "\n",
        "    # input: N x (L+3)\n",
        "    def forward(self, input):\n",
        "        xyz = input[:, -3:]\n",
        "\n",
        "        if input.shape[1] > 3 and self.latent_dropout:\n",
        "            latent_vecs = input[:, :-3]\n",
        "            latent_vecs = F.dropout(latent_vecs, p=0.2, training=self.training)\n",
        "            x = torch.cat([latent_vecs, xyz], 1)\n",
        "        else:\n",
        "            x = input\n",
        "\n",
        "        for layer in range(0, self.num_layers - 1):\n",
        "            lin = getattr(self, \"lin\" + str(layer))\n",
        "            if layer in self.latent_in:\n",
        "                x = torch.cat([x, input], 1)\n",
        "            elif layer != 0 and self.xyz_in_all:\n",
        "                x = torch.cat([x, xyz], 1)\n",
        "            x = lin(x)\n",
        "            # last layer Tanh\n",
        "            if layer == self.num_layers - 2 and self.use_tanh:\n",
        "                x = self.tanh(x)\n",
        "            if layer < self.num_layers - 2:\n",
        "                if (\n",
        "                    self.norm_layers is not None\n",
        "                    and layer in self.norm_layers\n",
        "                    and not self.weight_norm\n",
        "                ):\n",
        "                    bn = getattr(self, \"bn\" + str(layer))\n",
        "                    x = bn(x)\n",
        "                x = self.relu(x)\n",
        "                if self.dropout is not None and layer in self.dropout:\n",
        "                    x = F.dropout(x, p=self.dropout_prob, training=self.training)\n",
        "\n",
        "        if hasattr(self, \"th\"):\n",
        "            x = self.th(x)\n",
        "\n",
        "        return x"
      ]
    },
    {
      "cell_type": "code",
      "execution_count": null,
      "metadata": {
        "id": "kIvZOIfjSwRK"
      },
      "outputs": [],
      "source": [
        "# model trainer\n",
        "\n",
        "class Trainer:\n",
        "    def __init__(self, model, loader, lr=0.1, max_epochs=1, run_id='exp'):\n",
        "        \"\"\"\n",
        "            Use this class to train your model\n",
        "        \"\"\"\n",
        "        # feel free to add any other parameters here\n",
        "        self.model = model\n",
        "        self.loader = loader\n",
        "        self.train_losses = []\n",
        "        self.val_losses = []\n",
        "        self.epochs = 0\n",
        "        self.max_epochs = max_epochs\n",
        "        self.run_id = run_id\n",
        "        \n",
        "        self.optimizer = torch.optim.Adam(model.parameters(), lr=lr)\n",
        "        self.criterion = nn.CrossEntropyLoss()\n",
        "        # TODO: try: Dirichlet energy, chamfer loss\n",
        "\n",
        "    # TODO: revisit\n",
        "    def train(self):\n",
        "        self.model.train() # set to training mode\n",
        "        epoch_loss = 0\n",
        "        for batch_num, inp in enumerate(self.loader):\n",
        "            epoch_loss += self.train_batch(inp)\n",
        "        epoch_loss = epoch_loss / (batch_num + 1)\n",
        "        self.epochs += 1\n",
        "        print('[TRAIN]  Epoch [%d/%d]   Loss: %.4f'\n",
        "                      % (self.epochs, self.max_epochs, epoch_loss))\n",
        "        self.train_losses.append(epoch_loss)\n",
        "\n",
        "    # TODO: revisit\n",
        "    def train_batch(self, inputs):\n",
        "        \n",
        "        self.optimizer.zero_grad()\n",
        "        outputs, _ = self.model(inputs)\n",
        "        outputs = outputs.permute(0, 2, 1)\n",
        "\n",
        "        # since we are training an autoencoder, the input is the target\n",
        "        loss = self.criterion(outputs, inputs)\n",
        "        if self.model.use_lip:\n",
        "          lipschitz_bound = 1\n",
        "          for layer in range(0, self.model.num_layers - 1):\n",
        "            lip = getattr(self, \"lin\" + str(layer))\n",
        "            lipschitz_bound *= lip.ci\n",
        "\n",
        "        loss.backward()\n",
        "        self.optimizer.step()\n",
        "        \n",
        "        return loss.item()\n",
        "\n",
        "    \n",
        "    # TODO\n",
        "    def sample(self):\n",
        "        self.model.eval() # set to eval mode\n",
        "        \n",
        "        \n",
        "        pass\n",
        "\n",
        "    # TODO\n",
        "    def render(self):\n",
        "        self.model.eval() # set to eval mode\n",
        "        \n",
        "        \n",
        "        pass\n",
        "\n",
        "    def save(self):\n",
        "        # don't change these\n",
        "        model_path = os.path.join('experiments', self.run_id, 'model-{}.pkl'.format(self.epochs))\n",
        "        torch.save({'state_dict': self.model.state_dict()},\n",
        "            model_path)"
      ]
    },
    {
      "cell_type": "markdown",
      "metadata": {
        "id": "UMHWmS4UT-UY"
      },
      "source": [
        "#### Training + Evaluation"
      ]
    },
    {
      "cell_type": "markdown",
      "source": [
        "![Screen Shot 2022-05-08 at 6.38.21 PM.png](data:image/png;base64,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)"
      ],
      "metadata": {
        "id": "_C1Cbugd0vDy"
      }
    },
    {
      "cell_type": "code",
      "execution_count": null,
      "metadata": {
        "id": "TiUrjbEjSwRQ"
      },
      "outputs": [],
      "source": [
        "# TODO: define other hyperparameters here\n",
        "\n",
        "lipschitz_alpha = 1E-6\n",
        "\n",
        "LR = 0.1\n",
        "NUM_EPOCHS = 10\n",
        "BATCH_SIZE = 256\n",
        "\n",
        "P = 0.2                 # dropout probability\n",
        "LATENT_DIM = 256\n",
        "FC_DIM = [512] * 7"
      ]
    },
    {
      "cell_type": "code",
      "execution_count": null,
      "metadata": {
        "id": "DbHH6zXTSwRa",
        "scrolled": true,
        "colab": {
          "base_uri": "https://localhost:8080/",
          "height": 385
        },
        "outputId": "c793096f-ee19-4740-c6b1-e0fab03a421d"
      },
      "outputs": [
        {
          "output_type": "stream",
          "name": "stdout",
          "text": [
            "Saving models, predictions, and generated words to ./experiments/1651892999\n"
          ]
        },
        {
          "output_type": "error",
          "ename": "TypeError",
          "evalue": "ignored",
          "traceback": [
            "\u001b[0;31m---------------------------------------------------------------------------\u001b[0m",
            "\u001b[0;31mTypeError\u001b[0m                                 Traceback (most recent call last)",
            "\u001b[0;32m<ipython-input-14-bdbb3367130c>\u001b[0m in \u001b[0;36m<module>\u001b[0;34m()\u001b[0m\n\u001b[1;32m      7\u001b[0m \u001b[0;34m\u001b[0m\u001b[0m\n\u001b[1;32m      8\u001b[0m \u001b[0;31m# initialize models\u001b[0m\u001b[0;34m\u001b[0m\u001b[0;34m\u001b[0m\u001b[0;34m\u001b[0m\u001b[0m\n\u001b[0;32m----> 9\u001b[0;31m \u001b[0mmodel\u001b[0m \u001b[0;34m=\u001b[0m \u001b[0mAutoDecoder\u001b[0m\u001b[0;34m(\u001b[0m\u001b[0;34m)\u001b[0m\u001b[0;34m\u001b[0m\u001b[0;34m\u001b[0m\u001b[0m\n\u001b[0m\u001b[1;32m     10\u001b[0m \u001b[0mloader\u001b[0m \u001b[0;34m=\u001b[0m \u001b[0mSDFDataLoader\u001b[0m\u001b[0;34m(\u001b[0m\u001b[0mdataset\u001b[0m\u001b[0;34m=\u001b[0m\u001b[0mdataset\u001b[0m\u001b[0;34m,\u001b[0m \u001b[0mbatch_size\u001b[0m\u001b[0;34m=\u001b[0m\u001b[0mBATCH_SIZE\u001b[0m\u001b[0;34m)\u001b[0m\u001b[0;34m\u001b[0m\u001b[0;34m\u001b[0m\u001b[0m\n\u001b[1;32m     11\u001b[0m \u001b[0mtrainer\u001b[0m \u001b[0;34m=\u001b[0m \u001b[0mTrainer\u001b[0m\u001b[0;34m(\u001b[0m\u001b[0mmodel\u001b[0m\u001b[0;34m=\u001b[0m\u001b[0mmodel\u001b[0m\u001b[0;34m,\u001b[0m \u001b[0mloader\u001b[0m\u001b[0;34m=\u001b[0m\u001b[0mloader\u001b[0m\u001b[0;34m,\u001b[0m \u001b[0mmax_epochs\u001b[0m\u001b[0;34m=\u001b[0m\u001b[0mNUM_EPOCHS\u001b[0m\u001b[0;34m,\u001b[0m \u001b[0mrun_id\u001b[0m\u001b[0;34m=\u001b[0m\u001b[0mrun_id\u001b[0m\u001b[0;34m,\u001b[0m \u001b[0mlr\u001b[0m\u001b[0;34m=\u001b[0m\u001b[0mLR\u001b[0m\u001b[0;34m)\u001b[0m\u001b[0;34m\u001b[0m\u001b[0;34m\u001b[0m\u001b[0m\n",
            "\u001b[0;32m<ipython-input-11-7995cc82cc05>\u001b[0m in \u001b[0;36m__init__\u001b[0;34m(self, p)\u001b[0m\n\u001b[1;32m     15\u001b[0m         \u001b[0msuper\u001b[0m\u001b[0;34m(\u001b[0m\u001b[0mAutoDecoder\u001b[0m\u001b[0;34m,\u001b[0m \u001b[0mself\u001b[0m\u001b[0;34m)\u001b[0m\u001b[0;34m.\u001b[0m\u001b[0m__init__\u001b[0m\u001b[0;34m(\u001b[0m\u001b[0;34m)\u001b[0m\u001b[0;34m\u001b[0m\u001b[0;34m\u001b[0m\u001b[0m\n\u001b[1;32m     16\u001b[0m         \u001b[0mself\u001b[0m\u001b[0;34m.\u001b[0m\u001b[0menc\u001b[0m \u001b[0;34m=\u001b[0m \u001b[0mPointNetfeat\u001b[0m\u001b[0;34m(\u001b[0m\u001b[0;34m)\u001b[0m\u001b[0;34m\u001b[0m\u001b[0;34m\u001b[0m\u001b[0m\n\u001b[0;32m---> 17\u001b[0;31m         \u001b[0mself\u001b[0m\u001b[0;34m.\u001b[0m\u001b[0mdec\u001b[0m \u001b[0;34m=\u001b[0m \u001b[0mDeepSDFDecoder\u001b[0m\u001b[0;34m(\u001b[0m\u001b[0;34m)\u001b[0m\u001b[0;34m\u001b[0m\u001b[0;34m\u001b[0m\u001b[0m\n\u001b[0m\u001b[1;32m     18\u001b[0m \u001b[0;34m\u001b[0m\u001b[0m\n\u001b[1;32m     19\u001b[0m     \u001b[0;32mdef\u001b[0m \u001b[0mforward\u001b[0m\u001b[0;34m(\u001b[0m\u001b[0mself\u001b[0m\u001b[0;34m,\u001b[0m \u001b[0minp\u001b[0m\u001b[0;34m)\u001b[0m\u001b[0;34m:\u001b[0m\u001b[0;34m\u001b[0m\u001b[0;34m\u001b[0m\u001b[0m\n",
            "\u001b[0;31mTypeError\u001b[0m: __init__() missing 2 required positional arguments: 'latent_size' and 'dims'"
          ]
        }
      ],
      "source": [
        "# generate unique run id\n",
        "run_id = str(int(time.time()))\n",
        "if not os.path.exists('./experiments'):\n",
        "    os.mkdir('./experiments')\n",
        "os.mkdir('./experiments/%s' % run_id)\n",
        "print(\"Saving models, predictions, and generated words to ./experiments/%s\" % run_id)\n",
        "\n",
        "# initialize models\n",
        "model = DeepSDFDecoder(\n",
        "        LATENT_DIM,\n",
        "        FC_DIMS,\n",
        "        # dropout=None,\n",
        "        dropout_prob=P,\n",
        "        # norm_layers=(),\n",
        "        # latent_in=(),\n",
        "        # weight_norm=False,\n",
        "        # xyz_in_all=None,\n",
        "        use_tanh=True,\n",
        "        use_lip=True,\n",
        "        # latent_dropout=False,\n",
        "        )\n",
        "\n",
        "loader = SDFDataLoader(dataset=dataset, batch_size=BATCH_SIZE)\n",
        "trainer = Trainer(model, loader, max_epochs=NUM_EPOCHS, run_id=run_id, lr=LR)"
      ]
    },
    {
      "cell_type": "code",
      "execution_count": null,
      "metadata": {
        "id": "7D8wTJkBSwRc"
      },
      "outputs": [],
      "source": [
        "# Training Loop\n",
        "\n",
        "best_nll = 1e30 \n",
        "for epoch in range(NUM_EPOCHS):\n",
        "    trainer.train()\n",
        "    nll = trainer.test()\n",
        "    if nll < best_nll:\n",
        "        best_nll = nll\n",
        "        print(\"Saving model, predictions and generated output for epoch \"+str(epoch+1)+\" with NLL: \"+ str(best_nll))\n",
        "        trainer.save()\n",
        "    "
      ]
    },
    {
      "cell_type": "code",
      "execution_count": null,
      "metadata": {
        "id": "z2FmDqBCSwRf"
      },
      "outputs": [],
      "source": [
        "# plot training curves\n",
        "\n",
        "plt.figure()\n",
        "plt.plot(range(1, trainer.epochs + 1), trainer.train_losses, label='Training losses')\n",
        "plt.plot(range(1, trainer.epochs + 1), trainer.val_losses, label='Validation losses')\n",
        "plt.xlabel('Epochs')\n",
        "plt.ylabel('NLL')\n",
        "plt.legend()\n",
        "plt.show()"
      ]
    },
    {
      "cell_type": "code",
      "execution_count": null,
      "metadata": {
        "id": "ipdbmqaGSwRh"
      },
      "outputs": [],
      "source": [
        "# see generated output\n",
        "print (trainer.generated[-1]) # get last generated output"
      ]
    }
  ],
  "metadata": {
    "colab": {
      "name": "training.ipynb",
      "provenance": []
    },
    "kernelspec": {
      "display_name": "Python 3 (ipykernel)",
      "language": "python",
      "name": "python3"
    },
    "language_info": {
      "codemirror_mode": {
        "name": "ipython",
        "version": 3
      },
      "file_extension": ".py",
      "mimetype": "text/x-python",
      "name": "python",
      "nbconvert_exporter": "python",
      "pygments_lexer": "ipython3",
      "version": "3.9.7"
    },
    "accelerator": "GPU"
  },
  "nbformat": 4,
  "nbformat_minor": 0
}